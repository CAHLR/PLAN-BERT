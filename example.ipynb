{
 "cells": [
  {
   "cell_type": "code",
   "execution_count": 1,
   "metadata": {},
   "outputs": [
    {
     "name": "stderr",
     "output_type": "stream",
     "text": [
      "Using TensorFlow backend.\n"
     ]
    }
   ],
   "source": [
    "import pickle, copy\n",
    "import numpy as np\n",
    "import pandas as pd\n",
    "from PLANBERT.PLANBERT import PLANBERT\n",
    "\n",
    "train_csv = pd.read_csv('example/example_train.csv')\n",
    "valid_csv = pd.read_csv('example/example_valid.csv')\n",
    "test_csv = pd.read_csv('example/example_train.csv')"
   ]
  },
  {
   "cell_type": "code",
   "execution_count": 2,
   "metadata": {},
   "outputs": [
    {
     "data": {
      "text/html": [
       "<div>\n",
       "<style scoped>\n",
       "    .dataframe tbody tr th:only-of-type {\n",
       "        vertical-align: middle;\n",
       "    }\n",
       "\n",
       "    .dataframe tbody tr th {\n",
       "        vertical-align: top;\n",
       "    }\n",
       "\n",
       "    .dataframe thead th {\n",
       "        text-align: right;\n",
       "    }\n",
       "</style>\n",
       "<table border=\"1\" class=\"dataframe\">\n",
       "  <thead>\n",
       "    <tr style=\"text-align: right;\">\n",
       "      <th></th>\n",
       "      <th>user</th>\n",
       "      <th>t</th>\n",
       "      <th>item</th>\n",
       "      <th>feat_0</th>\n",
       "      <th>feat_1</th>\n",
       "    </tr>\n",
       "  </thead>\n",
       "  <tbody>\n",
       "    <tr>\n",
       "      <th>0</th>\n",
       "      <td>5416</td>\n",
       "      <td>0</td>\n",
       "      <td>1798</td>\n",
       "      <td>306</td>\n",
       "      <td>0</td>\n",
       "    </tr>\n",
       "    <tr>\n",
       "      <th>1</th>\n",
       "      <td>5416</td>\n",
       "      <td>0</td>\n",
       "      <td>1798</td>\n",
       "      <td>306</td>\n",
       "      <td>0</td>\n",
       "    </tr>\n",
       "    <tr>\n",
       "      <th>2</th>\n",
       "      <td>5416</td>\n",
       "      <td>0</td>\n",
       "      <td>1798</td>\n",
       "      <td>306</td>\n",
       "      <td>0</td>\n",
       "    </tr>\n",
       "    <tr>\n",
       "      <th>3</th>\n",
       "      <td>5416</td>\n",
       "      <td>1</td>\n",
       "      <td>4282</td>\n",
       "      <td>1012</td>\n",
       "      <td>1</td>\n",
       "    </tr>\n",
       "    <tr>\n",
       "      <th>4</th>\n",
       "      <td>5416</td>\n",
       "      <td>2</td>\n",
       "      <td>6731</td>\n",
       "      <td>2170</td>\n",
       "      <td>32</td>\n",
       "    </tr>\n",
       "    <tr>\n",
       "      <th>...</th>\n",
       "      <td>...</td>\n",
       "      <td>...</td>\n",
       "      <td>...</td>\n",
       "      <td>...</td>\n",
       "      <td>...</td>\n",
       "    </tr>\n",
       "    <tr>\n",
       "      <th>153676</th>\n",
       "      <td>5525</td>\n",
       "      <td>1</td>\n",
       "      <td>4915</td>\n",
       "      <td>4512</td>\n",
       "      <td>58</td>\n",
       "    </tr>\n",
       "    <tr>\n",
       "      <th>153677</th>\n",
       "      <td>5525</td>\n",
       "      <td>2</td>\n",
       "      <td>7906</td>\n",
       "      <td>788</td>\n",
       "      <td>5</td>\n",
       "    </tr>\n",
       "    <tr>\n",
       "      <th>153678</th>\n",
       "      <td>5525</td>\n",
       "      <td>3</td>\n",
       "      <td>9029</td>\n",
       "      <td>1298</td>\n",
       "      <td>58</td>\n",
       "    </tr>\n",
       "    <tr>\n",
       "      <th>153679</th>\n",
       "      <td>5525</td>\n",
       "      <td>4</td>\n",
       "      <td>3491</td>\n",
       "      <td>123</td>\n",
       "      <td>0</td>\n",
       "    </tr>\n",
       "    <tr>\n",
       "      <th>153680</th>\n",
       "      <td>5525</td>\n",
       "      <td>4</td>\n",
       "      <td>3491</td>\n",
       "      <td>123</td>\n",
       "      <td>0</td>\n",
       "    </tr>\n",
       "  </tbody>\n",
       "</table>\n",
       "<p>153681 rows × 5 columns</p>\n",
       "</div>"
      ],
      "text/plain": [
       "        user  t  item  feat_0  feat_1\n",
       "0       5416  0  1798     306       0\n",
       "1       5416  0  1798     306       0\n",
       "2       5416  0  1798     306       0\n",
       "3       5416  1  4282    1012       1\n",
       "4       5416  2  6731    2170      32\n",
       "...      ... ..   ...     ...     ...\n",
       "153676  5525  1  4915    4512      58\n",
       "153677  5525  2  7906     788       5\n",
       "153678  5525  3  9029    1298      58\n",
       "153679  5525  4  3491     123       0\n",
       "153680  5525  4  3491     123       0\n",
       "\n",
       "[153681 rows x 5 columns]"
      ]
     },
     "execution_count": 2,
     "metadata": {},
     "output_type": "execute_result"
    }
   ],
   "source": [
    "train_csv"
   ]
  },
  {
   "cell_type": "code",
   "execution_count": 3,
   "metadata": {},
   "outputs": [],
   "source": [
    "planbert = PLANBERT(25, 10000, [5507, 69], 0, checkpoint='example/example_ckpt.h5')"
   ]
  },
  {
   "cell_type": "code",
   "execution_count": 4,
   "metadata": {},
   "outputs": [
    {
     "name": "stderr",
     "output_type": "stream",
     "text": [
      "100%|██████████| 153681/153681 [00:43<00:00, 3504.94it/s]\n",
      "100%|█████████████████████| 430/430 [00:34<00:00, 12.30it/s]\n"
     ]
    }
   ],
   "source": [
    "predict = planbert.predict(test_csv, 'time', 9)"
   ]
  },
  {
   "cell_type": "code",
   "execution_count": 5,
   "metadata": {},
   "outputs": [
    {
     "name": "stderr",
     "output_type": "stream",
     "text": [
      "100%|██████████| 153681/153681 [00:39<00:00, 3850.16it/s]\n",
      "100%|█████████████████████| 430/430 [00:38<00:00, 11.22it/s]\n",
      "100%|█████████████████████| 430/430 [01:22<00:00,  5.20it/s]\n"
     ]
    },
    {
     "data": {
      "text/plain": [
       "({9: {3: [0.38691309623821524,\n",
       "    array([0.35719557, 0.34458399, 0.36605657, 0.38431373, 0.36393443,\n",
       "           0.34946871, 0.39583333, 0.35068913, 0.4086629 , 0.42572062,\n",
       "           0.46236559, 0.42597403, 0.45993031, 0.5204918 , 0.50993377,\n",
       "           0.5320197 ])]}},\n",
       " {9: {3: [0.30831699803976476,\n",
       "    array([0.25387454, 0.25353218, 0.26206323, 0.28529412, 0.29289617,\n",
       "           0.27744982, 0.29315476, 0.2863706 , 0.35404896, 0.37028825,\n",
       "           0.38978495, 0.38441558, 0.41114983, 0.50409836, 0.50331126,\n",
       "           0.50246305])]}})"
      ]
     },
     "execution_count": 5,
     "metadata": {},
     "output_type": "execute_result"
    }
   ],
   "source": [
    "planbert.test(test_csv, h_list=[9], r_list=[3], pool_size=25)"
   ]
  },
  {
   "cell_type": "code",
   "execution_count": null,
   "metadata": {},
   "outputs": [],
   "source": [
    "planbert = PLANBERT(25, 10000, [5507, 69], 0)\n",
    "planbert.fit(train_csv, valid_csv)\n",
    "planbert.test(test_csv, h_list=[9], r_list=[3], pool_size=25)"
   ]
  },
  {
   "cell_type": "code",
   "execution_count": null,
   "metadata": {},
   "outputs": [],
   "source": []
  }
 ],
 "metadata": {
  "kernelspec": {
   "display_name": "Python 3",
   "language": "python",
   "name": "python3"
  },
  "language_info": {
   "codemirror_mode": {
    "name": "ipython",
    "version": 3
   },
   "file_extension": ".py",
   "mimetype": "text/x-python",
   "name": "python",
   "nbconvert_exporter": "python",
   "pygments_lexer": "ipython3",
   "version": "3.7.9"
  }
 },
 "nbformat": 4,
 "nbformat_minor": 4
}
