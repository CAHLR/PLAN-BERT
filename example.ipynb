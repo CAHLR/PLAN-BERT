{
 "cells": [
  {
   "cell_type": "code",
   "execution_count": 2,
   "metadata": {},
   "outputs": [
    {
     "name": "stdout",
     "output_type": "stream",
     "text": [
      "Total Number of Users : 9847\n"
     ]
    }
   ],
   "source": [
    "\n",
    "\n",
    "\n",
    "\n",
    "basic_config = {\n",
    "    'course_file' : 'example.pkl',\n",
    "    'num_times' : 25,\n",
    "    'num_items' : 10000, \n",
    "    'batch_size' : 32, \n",
    "    'feats' : [5507, 69]\n",
    "}\n",
    "\n",
    "with open(basic_config['course_file'], 'rb') as f:\n",
    "    user_dict = pickle.load(f)\n",
    "    print('Total Number of Users : ' + str(len(user_dict)))\n",
    "    \n",
    "all_keys = list(user_dict.keys())\n",
    "all_keys.sort()\n",
    "np.random.shuffle(all_keys)\n",
    "\n",
    "train_keys, tv_keys = dh.list_partition(all_keys, 0.7, seed=0)\n",
    "test_keys, valid_keys = dh.list_partition(tv_keys, 0.5, seed=0)\n",
    "\n",
    "train_dict = {key:user_dict[key][:, [0, *np.arange(2, user_dict[key].shape[1])]] for key in train_keys[:100]}\n",
    "valid_dict = {key:user_dict[key][:, [0, *np.arange(2, user_dict[key].shape[1])]] for key in valid_keys}\n",
    "test_dict = {key:user_dict[key][:, [0, *np.arange(2, user_dict[key].shape[1])]] for key in test_keys}"
   ]
  },
  {
   "cell_type": "code",
   "execution_count": 3,
   "metadata": {},
   "outputs": [],
   "source": [
    "planbert = PLANBERT(25, 10000, [5507, 69], 0, checkpoint='example.h5')\n",
    "#planbert.test(test_dict, h_list=[9], r_list=[3], pool_size=25)"
   ]
  },
  {
   "cell_type": "code",
   "execution_count": 4,
   "metadata": {},
   "outputs": [
    {
     "name": "stderr",
     "output_type": "stream",
     "text": [
      "100%|███████████████████████| 92/92 [00:08<00:00, 10.75it/s]\n"
     ]
    }
   ],
   "source": [
    "predict = planbert.predict(test_dict, 'time', 9)"
   ]
  },
  {
   "cell_type": "code",
   "execution_count": null,
   "metadata": {},
   "outputs": [],
   "source": [
    "planbert = PLANBERT(25, 10000, [5507, 69], 0)\n",
    "planbert.fit(train_dict, valid_dict)\n",
    "planbert.test(test_dict, h_list=[9], r_list=[3], pool_size=25)"
   ]
  },
  {
   "cell_type": "code",
   "execution_count": null,
   "metadata": {},
   "outputs": [],
   "source": []
  }
 ],
 "metadata": {
  "kernelspec": {
   "display_name": "Python 3",
   "language": "python",
   "name": "python3"
  },
  "language_info": {
   "codemirror_mode": {
    "name": "ipython",
    "version": 3
   },
   "file_extension": ".py",
   "mimetype": "text/x-python",
   "name": "python",
   "nbconvert_exporter": "python",
   "pygments_lexer": "ipython3",
   "version": "3.7.9"
  }
 },
 "nbformat": 4,
 "nbformat_minor": 4
}
