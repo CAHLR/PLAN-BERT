{
 "cells": [
  {
   "cell_type": "code",
   "execution_count": null,
   "metadata": {},
   "outputs": [],
   "source": [
    "from PLANBERT.Model import PLANBERT\n",
    "# Load the training, validation, and testing set.\n",
    "import pandas as pd\n",
    "master_csv = pd.read_csv('./example/example_master.csv')\n",
    "train_len, train_valid_len = 153681, 153681+31661\n",
    "train_csv, valid_csv, test_csv = master_csv.iloc[:train_len], master_csv.iloc[train_len:train_valid_len], master_csv.iloc[train_valid_len:]"
   ]
  },
  {
   "cell_type": "code",
   "execution_count": null,
   "metadata": {},
   "outputs": [],
   "source": [
    "# Train a PLAN-BERT with training set and validation set without checkpoint.\n",
    "# [ Number of time slots, Number of items, [Number of features], ID of GPU]\n",
    "planbert = PLANBERT(num_times=6, num_items=10000, feat_dims=[5000, 1000], cuda_num=0)\n",
    "planbert.fit(train_csv, valid_csv, epoch_limit=2)\n",
    "#planbert = PLANBERT(master_csv=train_csv, cuda_num=0)\n",
    "#planbert.fit(train_csv, valid_csv)\n",
    "#planbert.test(test_csv, h_list=[9], r_list=[3], pool_size=25)"
   ]
  },
  {
   "cell_type": "code",
   "execution_count": null,
   "metadata": {},
   "outputs": [],
   "source": [
    "class recall_at_10(tf.keras.metrics.Metric):\n",
    "    def __init__(self, name='recall_at_10', **kwargs):\n",
    "        super(recall_at_10, self).__init__(name=name, **kwargs)\n",
    "        self.true_positives = self.add_weight(name='tp', initializer='zeros')\n",
    "\n",
    "    def update_state(self, y_true, y_pred, use_pred):\n",
    "        use_pred = use_pred[:, :, 0]\n",
    "        # Tenth largest elements (output probs) over last axis \n",
    "        _, indices = tf.nn.top_k(y_pred, 10) # batch_size * num_semesters * 10\n",
    "        # Multihot mask of top ten predictions (output classes) from y_pred\n",
    "        # batch_size * num_semesters * 10 * num_courses\n",
    "        y_pred_top = K.sum(K.one_hot(indices, K.int_shape(y_pred)[-1]), axis=-2)\n",
    "        hit_mat = K.round(K.clip(y_true * y_pred_top, 0, 1))\n",
    "        true_mat = K.round(K.clip(y_true, 0, 1))\n",
    "\n",
    "        hit_sum = K.sum(K.sum(hit_mat, axis=-1) * use_pred)\n",
    "        true_sum = K.sum(K.sum(true_mat, axis=-1) * use_pred)\n",
    "        # recall_at_10 = 1 if there are no positive examples\n",
    "        self.true_positives.assign_add(hit_sum / (true_sum + K.epsilon()))\n",
    "\n",
    "    def result(self):\n",
    "        return self.true_positives\n",
    "\n",
    "    def reset_states(self):\n",
    "        self.true_positives.assign(0)        \n",
    "\n",
    "m = recall_at_10()"
   ]
  },
  {
   "cell_type": "code",
   "execution_count": null,
   "metadata": {},
   "outputs": [],
   "source": [
    "m"
   ]
  },
  {
   "cell_type": "code",
   "execution_count": null,
   "metadata": {},
   "outputs": [],
   "source": []
  }
 ],
 "metadata": {
  "kernelspec": {
   "display_name": "Python 3",
   "language": "python",
   "name": "python3"
  },
  "language_info": {
   "codemirror_mode": {
    "name": "ipython",
    "version": 3
   },
   "file_extension": ".py",
   "mimetype": "text/x-python",
   "name": "python",
   "nbconvert_exporter": "python",
   "pygments_lexer": "ipython3",
   "version": "3.7.9"
  }
 },
 "nbformat": 4,
 "nbformat_minor": 4
}
