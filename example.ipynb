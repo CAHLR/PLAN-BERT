{
 "cells": [
  {
   "cell_type": "code",
   "execution_count": 1,
   "metadata": {},
   "outputs": [
    {
     "name": "stderr",
     "output_type": "stream",
     "text": [
      "Using TensorFlow backend.\n"
     ]
    }
   ],
   "source": [
    "from PLANBERT.Model import PLANBERT\n",
    "# Load the training, validation, and testing set.\n",
    "import pandas as pd\n",
    "train_csv = pd.read_csv('../example/example_train.csv')\n",
    "valid_csv = pd.read_csv('../example/example_valid.csv')\n",
    "test_csv = pd.read_csv('../example/example_train.csv')"
   ]
  },
  {
   "cell_type": "code",
   "execution_count": 2,
   "metadata": {},
   "outputs": [],
   "source": [
    "planbert = PLANBERT(0, 0, 0, 0, train_csv)"
   ]
  },
  {
   "cell_type": "code",
   "execution_count": 3,
   "metadata": {},
   "outputs": [
    {
     "name": "stderr",
     "output_type": "stream",
     "text": [
      "100%|██████████| 153681/153681 [01:58<00:00, 1301.86it/s]\n",
      "100%|██████████| 10/10 [00:01<00:00,  6.97it/s]\n"
     ]
    }
   ],
   "source": [
    "# Obtain the output schedule. We note that the test_csv should only include historical items and future reference items. We should sample test_csv before feeding it into planbert.predict.\n",
    "history_dict = {iter:6 for iter in test_csv['user'].unique()[:10]}\n",
    "predict = planbert.predict(test_csv, 'time', history_dict) # [Testing set, PLAN-BERT's mode ('time'/'wishlist'), Number of historical time slots]"
   ]
  },
  {
   "cell_type": "code",
   "execution_count": null,
   "metadata": {},
   "outputs": [],
   "source": [
    "# Train a PLAN-BERT with training set and validation set without checkpoint.\n",
    "planbert = PLANBERT(0, 0, 0, 0, train_csv) # [ Number of time slots, Number of items, [Number of features], ID of GPU]\n",
    "planbert.fit(train_csv, valid_csv)\n",
    "planbert.test(test_csv, h_list=[9], r_list=[3], pool_size=25)"
   ]
  },
  {
   "cell_type": "code",
   "execution_count": null,
   "metadata": {},
   "outputs": [],
   "source": []
  }
 ],
 "metadata": {
  "kernelspec": {
   "display_name": "Python 3",
   "language": "python",
   "name": "python3"
  },
  "language_info": {
   "codemirror_mode": {
    "name": "ipython",
    "version": 3
   },
   "file_extension": ".py",
   "mimetype": "text/x-python",
   "name": "python",
   "nbconvert_exporter": "python",
   "pygments_lexer": "ipython3",
   "version": "3.6.3"
  }
 },
 "nbformat": 4,
 "nbformat_minor": 4
}
